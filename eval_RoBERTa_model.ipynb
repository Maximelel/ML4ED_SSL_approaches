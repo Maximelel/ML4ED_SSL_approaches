{
 "cells": [
  {
   "cell_type": "markdown",
   "metadata": {},
   "source": [
    "# Reproducibility"
   ]
  },
  {
   "cell_type": "code",
   "execution_count": 18,
   "metadata": {},
   "outputs": [],
   "source": [
    "import pandas as pd\n",
    "import numpy as np\n",
    "import seaborn as sns\n",
    "import matplotlib.pyplot as plt\n",
    "import regex as re\n",
    "import torch\n",
    "import tqdm\n",
    "from pandas.api.types import CategoricalDtype\n",
    "from sklearn.metrics import accuracy_score"
   ]
  },
  {
   "cell_type": "code",
   "execution_count": 9,
   "metadata": {},
   "outputs": [
    {
     "name": "stdout",
     "output_type": "stream",
     "text": [
      "In English\n",
      "Lenght training set : 6096\n",
      "Lenght validation set : 339\n",
      "Lenght testing set : 339\n"
     ]
    },
    {
     "data": {
      "text/html": [
       "<div>\n",
       "<style scoped>\n",
       "    .dataframe tbody tr th:only-of-type {\n",
       "        vertical-align: middle;\n",
       "    }\n",
       "\n",
       "    .dataframe tbody tr th {\n",
       "        vertical-align: top;\n",
       "    }\n",
       "\n",
       "    .dataframe thead th {\n",
       "        text-align: right;\n",
       "    }\n",
       "</style>\n",
       "<table border=\"1\" class=\"dataframe\">\n",
       "  <thead>\n",
       "    <tr style=\"text-align: right;\">\n",
       "      <th></th>\n",
       "      <th>idx</th>\n",
       "      <th>context</th>\n",
       "      <th>sentence</th>\n",
       "      <th>y</th>\n",
       "      <th>confidence</th>\n",
       "      <th>y_requires_context</th>\n",
       "    </tr>\n",
       "  </thead>\n",
       "  <tbody>\n",
       "    <tr>\n",
       "      <th>0</th>\n",
       "      <td>4196</td>\n",
       "      <td>In the math class, examples usually count for ...</td>\n",
       "      <td>In the second, general class, the new material...</td>\n",
       "      <td>Reflection</td>\n",
       "      <td>[5, 4]</td>\n",
       "      <td>NaN</td>\n",
       "    </tr>\n",
       "    <tr>\n",
       "      <th>1</th>\n",
       "      <td>5933</td>\n",
       "      <td>The didactic circle proceeded in a similar way...</td>\n",
       "      <td>In the second diary, they start with a problem.</td>\n",
       "      <td>Difficulty</td>\n",
       "      <td>[2, 3]</td>\n",
       "      <td>NaN</td>\n",
       "    </tr>\n",
       "    <tr>\n",
       "      <th>2</th>\n",
       "      <td>6672</td>\n",
       "      <td>I like this teacher's approach to children. He...</td>\n",
       "      <td>In the second semester, I chose a secondary me...</td>\n",
       "      <td>Experience</td>\n",
       "      <td>[3, 5]</td>\n",
       "      <td>NaN</td>\n",
       "    </tr>\n",
       "    <tr>\n",
       "      <th>3</th>\n",
       "      <td>2832</td>\n",
       "      <td>I was very surprised to find out that at least...</td>\n",
       "      <td>In French, therefore, he has to translate ever...</td>\n",
       "      <td>Other</td>\n",
       "      <td>[5, 5]</td>\n",
       "      <td>NaN</td>\n",
       "    </tr>\n",
       "    <tr>\n",
       "      <th>4</th>\n",
       "      <td>1040</td>\n",
       "      <td>I didn't know at all if I had days when I prac...</td>\n",
       "      <td>No one in the choir room offered me a chair.</td>\n",
       "      <td>Experience</td>\n",
       "      <td>[4, 2]</td>\n",
       "      <td>NaN</td>\n",
       "    </tr>\n",
       "  </tbody>\n",
       "</table>\n",
       "</div>"
      ],
      "text/plain": [
       "    idx                                            context  \\\n",
       "0  4196  In the math class, examples usually count for ...   \n",
       "1  5933  The didactic circle proceeded in a similar way...   \n",
       "2  6672  I like this teacher's approach to children. He...   \n",
       "3  2832  I was very surprised to find out that at least...   \n",
       "4  1040  I didn't know at all if I had days when I prac...   \n",
       "\n",
       "                                            sentence           y confidence  \\\n",
       "0  In the second, general class, the new material...  Reflection     [5, 4]   \n",
       "1    In the second diary, they start with a problem.  Difficulty     [2, 3]   \n",
       "2  In the second semester, I chose a secondary me...  Experience     [3, 5]   \n",
       "3  In French, therefore, he has to translate ever...       Other     [5, 5]   \n",
       "4       No one in the choir room offered me a chair.  Experience     [4, 2]   \n",
       "\n",
       "  y_requires_context  \n",
       "0                NaN  \n",
       "1                NaN  \n",
       "2                NaN  \n",
       "3                NaN  \n",
       "4                NaN  "
      ]
     },
     "execution_count": 9,
     "metadata": {},
     "output_type": "execute_result"
    }
   ],
   "source": [
    "# import sentences\n",
    "sentences_en_tr = pd.read_csv('./../reflection-classification/data/sentences/en/train/sentences.tsv',sep='\\t')\n",
    "sentences_en_val = pd.read_csv('./../reflection-classification/data/sentences/en/val/sentences.tsv',sep='\\t')\n",
    "sentences_en_te = pd.read_csv('./../reflection-classification/data/sentences/en/test/sentences.tsv',sep='\\t')\n",
    "print(f'In English\\nLenght training set : {len(sentences_en_tr)}')\n",
    "print(f'Lenght validation set : {len(sentences_en_val)}')\n",
    "print(f'Lenght testing set : {len(sentences_en_te)}')\n",
    "\n",
    "sentences_en_te.head()"
   ]
  },
  {
   "cell_type": "code",
   "execution_count": 2,
   "metadata": {},
   "outputs": [
    {
     "name": "stderr",
     "output_type": "stream",
     "text": [
      "c:\\Users\\Maxime\\anaconda3\\envs\\modern_nlp\\lib\\site-packages\\tqdm\\auto.py:22: TqdmWarning: IProgress not found. Please update jupyter and ipywidgets. See https://ipywidgets.readthedocs.io/en/stable/user_install.html\n",
      "  from .autonotebook import tqdm as notebook_tqdm\n"
     ]
    }
   ],
   "source": [
    "from transformers import AutoConfig, AutoModelForSequenceClassification, AutoTokenizer\n",
    "\n",
    "LABELS = [\"Other\", \"Belief\", \"Perspective\", \"Feeling\", \"Experience\",\n",
    "          \"Reflection\", \"Difficulty\", \"Intention\", \"Learning\"]\n",
    "\n",
    "class NeuralClassifier:\n",
    "\n",
    "    def __init__(self, model_path: str, uses_context: bool, device: str):\n",
    "        self.config = AutoConfig.from_pretrained(model_path)\n",
    "        self.device = device\n",
    "        self.model = AutoModelForSequenceClassification.from_pretrained(model_path, config=self.config).to(device)\n",
    "        self.tokenizer = AutoTokenizer.from_pretrained(model_path)\n",
    "        self.uses_context = uses_context\n",
    "\n",
    "    def predict_sentence(self, sentence: str, context: str = None):\n",
    "        if context is None and self.uses_context:\n",
    "            raise ValueError(\"You need to pass in context argument, including the sentence\")\n",
    "\n",
    "        features = self.tokenizer(sentence, text_pair=context,\n",
    "                                  padding=\"max_length\", truncation=True, return_tensors='pt')\n",
    "        outputs = self.model(**features.to(self.device), return_dict=True)\n",
    "        argmax = outputs.logits.argmax(dim=-1).detach().cpu().tolist()[0]\n",
    "        labels = LABELS[argmax]\n",
    "\n",
    "        return labels"
   ]
  },
  {
   "cell_type": "code",
   "execution_count": 28,
   "metadata": {},
   "outputs": [
    {
     "name": "stdout",
     "output_type": "stream",
     "text": [
      "cpu\n"
     ]
    }
   ],
   "source": [
    "# use the GPU's to speed up the code if there are any GPU's available\n",
    "device = torch.device(\"cuda\" if torch.cuda.is_available() else \"cpu\")\n",
    "print(device)"
   ]
  },
  {
   "cell_type": "markdown",
   "metadata": {},
   "source": [
    "## Load the pretrained model from Hugging Face"
   ]
  },
  {
   "cell_type": "code",
   "execution_count": 5,
   "metadata": {},
   "outputs": [
    {
     "name": "stdout",
     "output_type": "stream",
     "text": [
      "['Intention', 'Feeling', 'Other']\n"
     ]
    }
   ],
   "source": [
    "classifier = NeuralClassifier(model_path=\"MU-NLPC/XLM-R-large-reflective-conf4\", \n",
    "                            uses_context=False,\n",
    "                            #device=\"cpu\")\n",
    "                            device=device)\n",
    "\n",
    "# test_sentences = [\"And one day I will be a real teacher and I will try to do the best I can for the children.\",\n",
    "#                   \"I felt really well!\",\n",
    "#                   \"gfagdhj gjfdjgh dg\"]\n",
    "\n",
    "# y_pred = [classifier.predict_sentence(sentence) for sentence in test_sentences]\n",
    "\n",
    "# print(y_pred)\n",
    "\n",
    "#>>> ['Intention', 'Feeling', 'Other']"
   ]
  },
  {
   "cell_type": "code",
   "execution_count": 27,
   "metadata": {},
   "outputs": [
    {
     "name": "stdout",
     "output_type": "stream",
     "text": [
      "5.0 % labeled\n",
      "15.0 % labeled\n",
      "25.0 % labeled\n",
      "35.0 % labeled\n",
      "45.0 % labeled\n",
      "55.0 % labeled\n",
      "65.0 % labeled\n",
      "75.0 % labeled\n",
      "85.0 % labeled\n",
      "95.0 % labeled\n",
      "['Experience', 'Other', 'Experience', 'Other', 'Experience', 'Experience', 'Other', 'Reflection', 'Difficulty', 'Reflection', 'Experience', 'Reflection', 'Experience', 'Other', 'Feeling', 'Experience', 'Other', 'Other', 'Experience', 'Difficulty']\n"
     ]
    }
   ],
   "source": [
    "# evaluation on the test dataset (~ 1min on GPU, > 20 min on cpu)\n",
    "labels = sentences_en_te['y'].values\n",
    "predictions = []\n",
    "\n",
    "for idx, sentence in enumerate(sentences_en_te['sentence'][:20]):  # run on less sentences if only cpu\n",
    "    predictions.append(classifier.predict_sentence(sentence))\n",
    "    if (idx%30) == 0:\n",
    "        print(f'{np.round(100*(idx+1)/len(sentences_en_te[\"sentence\"][:20]),3)} % labeled')\n",
    "\n",
    "print(predictions)"
   ]
  },
  {
   "cell_type": "code",
   "execution_count": 26,
   "metadata": {},
   "outputs": [
    {
     "name": "stdout",
     "output_type": "stream",
     "text": [
      "Accuracy : 0.7142857142857143\n"
     ]
    }
   ],
   "source": [
    "print(f'Accuracy : {accuracy_score(labels[:20],predictions)}')"
   ]
  },
  {
   "cell_type": "code",
   "execution_count": null,
   "metadata": {},
   "outputs": [],
   "source": []
  }
 ],
 "metadata": {
  "kernelspec": {
   "display_name": "ml",
   "language": "python",
   "name": "python3"
  },
  "language_info": {
   "codemirror_mode": {
    "name": "ipython",
    "version": 3
   },
   "file_extension": ".py",
   "mimetype": "text/x-python",
   "name": "python",
   "nbconvert_exporter": "python",
   "pygments_lexer": "ipython3",
   "version": "3.8.16"
  },
  "orig_nbformat": 4
 },
 "nbformat": 4,
 "nbformat_minor": 2
}
